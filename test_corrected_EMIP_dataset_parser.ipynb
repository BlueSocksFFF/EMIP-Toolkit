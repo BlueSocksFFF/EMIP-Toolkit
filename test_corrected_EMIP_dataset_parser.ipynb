{
 "cells": [
  {
   "cell_type": "code",
   "execution_count": 15,
   "id": "cb841af2",
   "metadata": {},
   "outputs": [
    {
     "name": "stdout",
     "output_type": "stream",
     "text": [
      "The autoreload extension is already loaded. To reload it, use:\n",
      "  %reload_ext autoreload\n"
     ]
    }
   ],
   "source": [
    "import emip_toolkit as tk\n",
    "%load_ext autoreload\n",
    "%autoreload 2"
   ]
  },
  {
   "cell_type": "code",
   "execution_count": 24,
   "id": "12f3fb2f",
   "metadata": {},
   "outputs": [],
   "source": [
    "data = tk.corrected_EMIP_dataset('./datasets/correctedEMIP/finalset_line_part.csv', 10)"
   ]
  },
  {
   "cell_type": "code",
   "execution_count": 25,
   "id": "abd67da4",
   "metadata": {},
   "outputs": [
    {
     "name": "stdout",
     "output_type": "stream",
     "text": [
      "{135: <emip_toolkit.Experiment object at 0x000002952CF886D0>, 145: <emip_toolkit.Experiment object at 0x000002952CF88460>, 196: <emip_toolkit.Experiment object at 0x000002952CF88FD0>, 19: <emip_toolkit.Experiment object at 0x000002952CF885B0>, 1: <emip_toolkit.Experiment object at 0x000002952CEFF850>, 200: <emip_toolkit.Experiment object at 0x000002952CF880A0>, 201: <emip_toolkit.Experiment object at 0x000002952CEFF370>, 202: <emip_toolkit.Experiment object at 0x000002952CF88F10>, 203: <emip_toolkit.Experiment object at 0x000002952CF44DC0>, 204: <emip_toolkit.Experiment object at 0x000002952CF440D0>}\n"
     ]
    }
   ],
   "source": [
    "print(data)"
   ]
  }
 ],
 "metadata": {
  "kernelspec": {
   "display_name": "Python 3 (ipykernel)",
   "language": "python",
   "name": "python3"
  },
  "language_info": {
   "codemirror_mode": {
    "name": "ipython",
    "version": 3
   },
   "file_extension": ".py",
   "mimetype": "text/x-python",
   "name": "python",
   "nbconvert_exporter": "python",
   "pygments_lexer": "ipython3",
   "version": "3.9.1"
  }
 },
 "nbformat": 4,
 "nbformat_minor": 5
}
