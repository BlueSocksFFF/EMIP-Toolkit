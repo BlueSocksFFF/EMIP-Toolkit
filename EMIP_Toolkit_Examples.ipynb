{
 "cells": [
  {
   "cell_type": "markdown",
   "metadata": {},
   "source": [
    "# EMIP Toolkit Examples:\n",
    "\n",
    "In this file we will show examples of the main functionalities included in the EMIP Toolkit.\n",
    "\n",
    "This includes:  \n",
    "•\tReading Raw Data Files from EMIP Dataset into Toolkit Containers.  \n",
    "•\tApplying a Fixation Filter to Raw Data.  \n",
    "•\tRaw Data and Filtered Fixation Visualization.  \n",
    "•\tApply Fixation Correction Through Offset.  \n",
    "•\tUndo Applied Offset.  \n",
    "•\tGenerate AOIs for any EMIP Trial.  \n",
    "•\tDraw AOIs over Trial Image.  \n",
    "•\tAdd Text Tokens to Generated AOIs.  \n",
    "•\tAdd srcML Tags to AOIs and Tokens.  \n",
    "•\tHit Test Between Fixations and AOIs.\n",
    " "
   ]
  },
  {
   "cell_type": "code",
   "execution_count": 4,
   "metadata": {},
   "outputs": [
    {
     "name": "stdout",
     "output_type": "stream",
     "text": [
      "The autoreload extension is already loaded. To reload it, use:\n",
      "  %reload_ext autoreload\n",
      "The history saving thread hit an unexpected error (OperationalError('database or disk is full')).History will not be written to the database.\n"
     ]
    }
   ],
   "source": [
    "import emip_toolkit as tk\n",
    "%load_ext autoreload\n",
    "%autoreload 2"
   ]
  },
  {
   "cell_type": "markdown",
   "metadata": {},
   "source": [
    "# Reading Raw Data Files from EMIP Dataset:  \n",
    "\n",
    "1. Download the EMIP dataset using the download method \n",
    "2. The dataset should be in a folder called EMIPData in the parent directry to the directory where this tutorial is.  \n",
    "3. The folder structure should look like the following:  \n",
    "  \n",
    "-parent_dir\n",
    "    + EMIPData\n",
    "        + EMIP-Toolkit- replication package\n",
    "            + emip_dataset  \n",
    "                    + rawdata\n",
    "                    + EMIP_DataCollection_Materials\n",
    "            + current_directory  \n",
    "                    + EMIP_Toolkit_Examples\n"
   ]
  },
  {
   "cell_type": "code",
   "execution_count": 5,
   "metadata": {
    "scrolled": true
   },
   "outputs": [
    {
     "name": "stdout",
     "output_type": "stream",
     "text": [
      "Please cite this paper:  https://dl.acm.org/doi/abs/10.1145/3448018.3457425\n",
      "parsing file: ./datasets/EMIP/EMIP-Toolkit- replication package/emip_dataset/rawdata/100_rawdata.tsv\n",
      "parsing file: ./datasets/EMIP/EMIP-Toolkit- replication package/emip_dataset/rawdata/101_rawdata.tsv\n",
      "parsing file: ./datasets/EMIP/EMIP-Toolkit- replication package/emip_dataset/rawdata/102_rawdata.tsv\n",
      "parsing file: ./datasets/EMIP/EMIP-Toolkit- replication package/emip_dataset/rawdata/103_rawdata.tsv\n",
      "parsing file: ./datasets/EMIP/EMIP-Toolkit- replication package/emip_dataset/rawdata/104_rawdata.tsv\n",
      "parsing file: ./datasets/EMIP/EMIP-Toolkit- replication package/emip_dataset/rawdata/105_rawdata.tsv\n",
      "parsing file: ./datasets/EMIP/EMIP-Toolkit- replication package/emip_dataset/rawdata/106_rawdata.tsv\n",
      "parsing file: ./datasets/EMIP/EMIP-Toolkit- replication package/emip_dataset/rawdata/107_rawdata.tsv\n",
      "parsing file: ./datasets/EMIP/EMIP-Toolkit- replication package/emip_dataset/rawdata/108_rawdata.tsv\n",
      "parsing file: ./datasets/EMIP/EMIP-Toolkit- replication package/emip_dataset/rawdata/109_rawdata.tsv\n",
      "number of subjects:  10\n",
      "subject ID:  100\n",
      "number of trials:  7\n",
      "number of samples in trial:  12040\n"
     ]
    }
   ],
   "source": [
    "data_path = tk.download('EMIP')\n",
    "\n",
    "# gets the structured data of 10 subjects\n",
    "EMIP = tk.EMIP_dataset(data_path + '/EMIP-Toolkit- replication package/emip_dataset/rawdata/', 10)   \n",
    "\n",
    "print('number of subjects: ', len(EMIP))\n",
    "print('subject ID: ', EMIP['100'].trial[0].get_subject_id())\n",
    "print('number of trials: ', EMIP['100'].get_number_of_trials())\n",
    "print('number of samples in trial: ',EMIP['100'].trial[0].get_sample_number())"
   ]
  },
  {
   "cell_type": "code",
   "execution_count": 6,
   "metadata": {},
   "outputs": [
    {
     "name": "stdout",
     "output_type": "stream",
     "text": [
      "parsing file: ./datasets/EMIP//EMIP-Toolkit- replication package/emip_dataset/rawdata/100_rawdata.tsv\n",
      "parsing file: ./datasets/EMIP//EMIP-Toolkit- replication package/emip_dataset/rawdata/101_rawdata.tsv\n",
      "parsing file: ./datasets/EMIP//EMIP-Toolkit- replication package/emip_dataset/rawdata/102_rawdata.tsv\n",
      "parsing file: ./datasets/EMIP//EMIP-Toolkit- replication package/emip_dataset/rawdata/103_rawdata.tsv\n",
      "parsing file: ./datasets/EMIP//EMIP-Toolkit- replication package/emip_dataset/rawdata/104_rawdata.tsv\n",
      "parsing file: ./datasets/EMIP//EMIP-Toolkit- replication package/emip_dataset/rawdata/105_rawdata.tsv\n",
      "parsing file: ./datasets/EMIP//EMIP-Toolkit- replication package/emip_dataset/rawdata/106_rawdata.tsv\n",
      "parsing file: ./datasets/EMIP//EMIP-Toolkit- replication package/emip_dataset/rawdata/107_rawdata.tsv\n",
      "parsing file: ./datasets/EMIP//EMIP-Toolkit- replication package/emip_dataset/rawdata/108_rawdata.tsv\n",
      "parsing file: ./datasets/EMIP//EMIP-Toolkit- replication package/emip_dataset/rawdata/109_rawdata.tsv\n"
     ]
    }
   ],
   "source": [
    "# If already downloaded\n",
    "data_path = './datasets/EMIP/'\n",
    "EMIP = tk.EMIP_dataset(data_path + '/EMIP-Toolkit- replication package/emip_dataset/rawdata/', 10)  "
   ]
  },
  {
   "cell_type": "markdown",
   "metadata": {},
   "source": [
    "# Applying a Fixation Filter to Raw Data:\n",
    "\n",
    "EMIP Toolkit implements a dispersion-based fixation detection algorithm (I-DT). The technique uses a duration window over the gaze data with a length equal to the minimum fixation duration threshold. In addition to this time window, samples are added until sample spacial dispersion exceeds the maximum dispersion threshold. \n",
    "\n",
    "The fixation filter parameters have default values of:  \n",
    "* minimum_duration 50 milliseconds  \n",
    "* sample_duration 4 milliseconds  \n",
    "* maxmimum_dispersion 25 pixels  "
   ]
  },
  {
   "cell_type": "code",
   "execution_count": 7,
   "metadata": {},
   "outputs": [
    {
     "name": "stdout",
     "output_type": "stream",
     "text": [
      "number of fixations:  357\n"
     ]
    }
   ],
   "source": [
    "# select any subject and trial number.\n",
    "subject_ID = '106'\n",
    "trial_num = 2      # valid source code trials are 2 and 5\n",
    "\n",
    "# apply fixation filter to specific trial\n",
    "# EMIP[subject_ID].trial[trial_num].filter_fixations(minimum_duration=50, sample_duration=4, maxmimum_dispersion=25)\n",
    "\n",
    "# you can use the method get_fixation_number() to count the fixations after filtering in a trial\n",
    "print(\"number of fixations: \", EMIP[subject_ID].trial[trial_num].get_fixation_number())"
   ]
  },
  {
   "cell_type": "code",
   "execution_count": 8,
   "metadata": {},
   "outputs": [
    {
     "name": "stdout",
     "output_type": "stream",
     "text": [
      "raw sample count: 18964\n",
      "trial image: vehicle_java2.jpg\n"
     ]
    }
   ],
   "source": [
    "# accessor for samples count\n",
    "print(\"raw sample count:\", EMIP[subject_ID].trial[trial_num].get_sample_number())\n",
    "\n",
    "# accessor for trial image\n",
    "print(\"trial image:\", EMIP[subject_ID].trial[trial_num].get_trial_image())"
   ]
  },
  {
   "cell_type": "markdown",
   "metadata": {},
   "source": [
    "# Raw Data and Filtered Fixation visualization:  \n",
    "\n",
    "You can visualize any trial raw data, filtered fixations, or a combination of the two.  Filtered fixations are in green, and raw samples are in red.\n",
    "\n",
    "Try changing the code to: \n",
    "\n",
    "```\n",
    "draw_trial(image_path, False, True)\n",
    "```\n",
    "or\n",
    "```\n",
    "draw_trial(image_path, True, False)\n",
    "```"
   ]
  },
  {
   "cell_type": "code",
   "execution_count": 9,
   "metadata": {},
   "outputs": [
    {
     "ename": "FileNotFoundError",
     "evalue": "[Errno 2] No such file or directory: './datasets/EMIP//EMIP-Toolkit- replication package/emip_dataset/stimuli/vehicle_java2.jpg'",
     "output_type": "error",
     "traceback": [
      "\u001b[1;31m---------------------------------------------------------------------------\u001b[0m",
      "\u001b[1;31mFileNotFoundError\u001b[0m                         Traceback (most recent call last)",
      "\u001b[1;32m~\\AppData\\Local\\Temp/ipykernel_22184/3745418412.py\u001b[0m in \u001b[0;36m<module>\u001b[1;34m\u001b[0m\n\u001b[0;32m      1\u001b[0m \u001b[0mimage_path\u001b[0m \u001b[1;33m=\u001b[0m \u001b[0mdata_path\u001b[0m \u001b[1;33m+\u001b[0m \u001b[1;34m'/EMIP-Toolkit- replication package/emip_dataset/stimuli/'\u001b[0m\u001b[1;33m\u001b[0m\u001b[1;33m\u001b[0m\u001b[0m\n\u001b[0;32m      2\u001b[0m \u001b[1;33m\u001b[0m\u001b[0m\n\u001b[1;32m----> 3\u001b[1;33m \u001b[0mEMIP\u001b[0m\u001b[1;33m[\u001b[0m\u001b[0msubject_ID\u001b[0m\u001b[1;33m]\u001b[0m\u001b[1;33m.\u001b[0m\u001b[0mtrial\u001b[0m\u001b[1;33m[\u001b[0m\u001b[0mtrial_num\u001b[0m\u001b[1;33m]\u001b[0m\u001b[1;33m.\u001b[0m\u001b[0mdraw_trial\u001b[0m\u001b[1;33m(\u001b[0m\u001b[0mimage_path\u001b[0m\u001b[1;33m,\u001b[0m \u001b[0mdraw_raw_data\u001b[0m\u001b[1;33m=\u001b[0m\u001b[1;32mTrue\u001b[0m\u001b[1;33m,\u001b[0m \u001b[0mdraw_fixation\u001b[0m\u001b[1;33m=\u001b[0m\u001b[1;32mTrue\u001b[0m\u001b[1;33m)\u001b[0m\u001b[1;33m\u001b[0m\u001b[1;33m\u001b[0m\u001b[0m\n\u001b[0m",
      "\u001b[1;32m~\\Desktop\\2021Fall\\CS321\\Projects\\EMIP-Toolkit\\emip_toolkit.py\u001b[0m in \u001b[0;36mdraw_trial\u001b[1;34m(self, image_path, draw_raw_data, draw_fixation, draw_saccade, draw_number, draw_aoi, save_image)\u001b[0m\n\u001b[0;32m    621\u001b[0m         \"\"\"\n\u001b[0;32m    622\u001b[0m \u001b[1;33m\u001b[0m\u001b[0m\n\u001b[1;32m--> 623\u001b[1;33m         \u001b[0mim\u001b[0m \u001b[1;33m=\u001b[0m \u001b[0mImage\u001b[0m\u001b[1;33m.\u001b[0m\u001b[0mopen\u001b[0m\u001b[1;33m(\u001b[0m\u001b[0mimage_path\u001b[0m \u001b[1;33m+\u001b[0m \u001b[0mself\u001b[0m\u001b[1;33m.\u001b[0m\u001b[0mimage\u001b[0m\u001b[1;33m)\u001b[0m\u001b[1;33m\u001b[0m\u001b[1;33m\u001b[0m\u001b[0m\n\u001b[0m\u001b[0;32m    624\u001b[0m \u001b[1;33m\u001b[0m\u001b[0m\n\u001b[0;32m    625\u001b[0m         \u001b[1;32mif\u001b[0m \u001b[0mself\u001b[0m\u001b[1;33m.\u001b[0m\u001b[0meye_tracker\u001b[0m \u001b[1;33m==\u001b[0m \u001b[1;34m\"EyeLink1000\"\u001b[0m\u001b[1;33m:\u001b[0m\u001b[1;33m\u001b[0m\u001b[1;33m\u001b[0m\u001b[0m\n",
      "\u001b[1;32mc:\\users\\admin\\appdata\\local\\programs\\python\\python39\\lib\\site-packages\\PIL\\Image.py\u001b[0m in \u001b[0;36mopen\u001b[1;34m(fp, mode, formats)\u001b[0m\n\u001b[0;32m   2902\u001b[0m \u001b[1;33m\u001b[0m\u001b[0m\n\u001b[0;32m   2903\u001b[0m     \u001b[1;32mif\u001b[0m \u001b[0mfilename\u001b[0m\u001b[1;33m:\u001b[0m\u001b[1;33m\u001b[0m\u001b[1;33m\u001b[0m\u001b[0m\n\u001b[1;32m-> 2904\u001b[1;33m         \u001b[0mfp\u001b[0m \u001b[1;33m=\u001b[0m \u001b[0mbuiltins\u001b[0m\u001b[1;33m.\u001b[0m\u001b[0mopen\u001b[0m\u001b[1;33m(\u001b[0m\u001b[0mfilename\u001b[0m\u001b[1;33m,\u001b[0m \u001b[1;34m\"rb\"\u001b[0m\u001b[1;33m)\u001b[0m\u001b[1;33m\u001b[0m\u001b[1;33m\u001b[0m\u001b[0m\n\u001b[0m\u001b[0;32m   2905\u001b[0m         \u001b[0mexclusive_fp\u001b[0m \u001b[1;33m=\u001b[0m \u001b[1;32mTrue\u001b[0m\u001b[1;33m\u001b[0m\u001b[1;33m\u001b[0m\u001b[0m\n\u001b[0;32m   2906\u001b[0m \u001b[1;33m\u001b[0m\u001b[0m\n",
      "\u001b[1;31mFileNotFoundError\u001b[0m: [Errno 2] No such file or directory: './datasets/EMIP//EMIP-Toolkit- replication package/emip_dataset/stimuli/vehicle_java2.jpg'"
     ]
    }
   ],
   "source": [
    "image_path = data_path + '/EMIP-Toolkit- replication package/emip_dataset/stimuli/'\n",
    "\n",
    "EMIP[subject_ID].trial[trial_num].draw_trial(image_path, draw_raw_data=True, draw_fixation=True)"
   ]
  },
  {
   "cell_type": "markdown",
   "metadata": {},
   "source": [
    "# Apply fixation correction through offset:\n",
    "\n",
    "You can apply fixation corection using sample_offset(x_offset, y_offset) on the Trial object.\n",
    "\n",
    "Try running this with:\n",
    "\n",
    "```\n",
    "sample_offset(-200, 100)\n",
    "```\n",
    "You can then visualize the trial to see the effect:\n",
    "```\n",
    "draw_trial(image_path, True, True)\n",
    "```"
   ]
  },
  {
   "cell_type": "code",
   "execution_count": null,
   "metadata": {},
   "outputs": [],
   "source": [
    "# apply offset\n",
    "EMIP[subject_ID].trial[trial_num].sample_offset(-200, 100) # x:100 and y:50 just for example\n",
    "\n",
    "# draw trial again\n",
    "EMIP[subject_ID].trial[trial_num].draw_trial(image_path, True, True)"
   ]
  },
  {
   "cell_type": "markdown",
   "metadata": {},
   "source": [
    "You can get the total applied offset, useful after a few calls to sample_offset method.\n",
    "\n",
    "Try running this with:\n",
    "```\n",
    "get_offset()\n",
    "```"
   ]
  },
  {
   "cell_type": "code",
   "execution_count": null,
   "metadata": {},
   "outputs": [],
   "source": [
    "print(\"Current offset:\", EMIP[subject_ID].trial[trial_num].get_offset())"
   ]
  },
  {
   "cell_type": "markdown",
   "metadata": {},
   "source": [
    "After applying offset to samples you can call fixation filter again to generate fixations from samples at thier new position."
   ]
  },
  {
   "cell_type": "markdown",
   "metadata": {},
   "source": [
    "# Undo applied offset:"
   ]
  },
  {
   "cell_type": "code",
   "execution_count": null,
   "metadata": {},
   "outputs": [],
   "source": [
    "# undo all previous offset\n",
    "EMIP[subject_ID].trial[trial_num].reset_offset()\n",
    "\n",
    "# draw trial again\n",
    "EMIP[subject_ID].trial[trial_num].draw_trial(image_path, draw_raw_data=True, draw_fixation=True)"
   ]
  },
  {
   "cell_type": "markdown",
   "metadata": {},
   "source": [
    "# Generate AOIs for any EMIP Trial:  \n",
    "\n",
    "You can generate token level or line level AOIs for any trial code file in the EMIP dataset.\n",
    "\n",
    "Try running this with:\n",
    "```\n",
    "image_path = \"emip_dataset/stimuli/\"\n",
    "image = \"rectangle_java2.jpg\"\n",
    "\n",
    "aoi = tk.find_aoi(image, image_path, \"sub-line\")\n",
    "```"
   ]
  },
  {
   "cell_type": "code",
   "execution_count": null,
   "metadata": {
    "scrolled": true
   },
   "outputs": [],
   "source": [
    "image_path = data_path + '/EMIP-Toolkit- replication package/emip_dataset/stimuli/'\n",
    "image = \"rectangle_java2.jpg\"\n",
    "aoi = tk.find_aoi(image, image_path, level=\"sub-line\")\n",
    "aoi.head()"
   ]
  },
  {
   "cell_type": "markdown",
   "metadata": {},
   "source": [
    "# Draw AOIs over trial image:\n",
    "\n",
    "\n",
    "You can draw the obtained AOIs for the trial code file on the trial image in the EMIP dataset.\n",
    "\n",
    "Try running this with: <br>\n",
    "```\n",
    "image_path = \"emip_dataset/stimuli/\"\n",
    "image = \"rectangle_java2.jpg\"\n",
    "\n",
    "tk.draw_aoi(aoi, image, image_path)\n",
    "```"
   ]
  },
  {
   "cell_type": "code",
   "execution_count": null,
   "metadata": {},
   "outputs": [],
   "source": [
    "image = \"rectangle_java2.jpg\"\n",
    "\n",
    "tk.draw_aoi(aoi, image, image_path)"
   ]
  },
  {
   "cell_type": "markdown",
   "metadata": {},
   "source": [
    "# Add text tokens to generated AOIs:"
   ]
  },
  {
   "cell_type": "code",
   "execution_count": null,
   "metadata": {},
   "outputs": [],
   "source": [
    "aoi.head()"
   ]
  },
  {
   "cell_type": "code",
   "execution_count": null,
   "metadata": {},
   "outputs": [],
   "source": [
    "file_path = data_path + '/EMIP-Toolkit- replication package/emip_dataset/EMIP_DataCollection_Materials/emip_stimulus_programs/'\n",
    "\n",
    "aois_with_tokens = tk.add_tokens_to_AOIs(file_path, aoi)\n",
    "\n",
    "aois_with_tokens"
   ]
  },
  {
   "cell_type": "markdown",
   "metadata": {},
   "source": [
    "# Add srcML tags to AOIs and tokens:  \n",
    "\n",
    "The srcML format is an XML representation for source code, where the markup tags identify elements of the abstract syntax for the language. Read more about it: https://www.srcml.org/about.html"
   ]
  },
  {
   "cell_type": "code",
   "execution_count": null,
   "metadata": {},
   "outputs": [],
   "source": [
    "srcML_path = \"./datasets/EMIP2021/\"\n",
    "\n",
    "aois_tokens_srcml = tk.add_srcml_to_AOIs(aois_with_tokens, srcML_path)\n",
    "\n",
    "aois_tokens_srcml"
   ]
  },
  {
   "cell_type": "markdown",
   "metadata": {},
   "source": [
    "# Hit Test between Fixations and AOIs:  \n",
    "\n",
    "Match fixations to AOIs to calculate the fixation duration over each AOI (can be customized for line or code token).  \n",
    "radius is 25 pixels by default and it represents the area around the AOI included in the AOI region."
   ]
  },
  {
   "cell_type": "code",
   "execution_count": null,
   "metadata": {},
   "outputs": [],
   "source": [
    "aoi_fixes = tk.hit_test(EMIP[subject_ID].trial[trial_num], aois_tokens_srcml, radius=25)\n",
    "\n",
    "aoi_fixes.head()"
   ]
  },
  {
   "cell_type": "code",
   "execution_count": null,
   "metadata": {},
   "outputs": [],
   "source": []
  }
 ],
 "metadata": {
  "kernelspec": {
   "display_name": "Python 3 (ipykernel)",
   "language": "python",
   "name": "python3"
  },
  "language_info": {
   "codemirror_mode": {
    "name": "ipython",
    "version": 3
   },
   "file_extension": ".py",
   "mimetype": "text/x-python",
   "name": "python",
   "nbconvert_exporter": "python",
   "pygments_lexer": "ipython3",
   "version": "3.9.1"
  }
 },
 "nbformat": 4,
 "nbformat_minor": 4
}
